{
 "cells": [
  {
   "cell_type": "code",
   "execution_count": 5,
   "id": "fa70af85-f638-4ea5-bc06-208be08c19dd",
   "metadata": {},
   "outputs": [],
   "source": [
    "# importing libraries\n",
    "\n",
    "from scapy.all import ARP, Ether, srp"
   ]
  },
  {
   "cell_type": "code",
   "execution_count": 4,
   "id": "11a5432e-990f-4b5c-bb29-53268ed3467f",
   "metadata": {},
   "outputs": [],
   "source": [
    "# destination ip address\n",
    "target_ip = \"192.168.1.1/24\"\n",
    "\n",
    "# create ARP packet\n",
    "arp = ARP(pdst=target_ip)\n",
    "\n",
    "# creating Ethernet broadcast packet\n",
    "# ff:ff:ff:ff:ff:ff MAC indicates broadcasting in network\n",
    "ether = Ether(dst=\"ff:ff:ff:ff:ff:ff\")\n",
    "\n",
    "# stack them\n",
    "packet = ether/arp\n"
   ]
  },
  {
   "cell_type": "code",
   "execution_count": 7,
   "id": "02bf3fc2-b644-4a02-9a57-d26ea27af05a",
   "metadata": {},
   "outputs": [
    {
     "name": "stdout",
     "output_type": "stream",
     "text": [
      "Begin emission:\n",
      "Finished sending 256 packets.\n",
      "\n",
      "Received 1 packets, got 0 answers, remaining 256 packets\n"
     ]
    }
   ],
   "source": [
    "# we set timeout so script won't get stuck\n",
    "result = srp(packet, timeout=3)[0]"
   ]
  },
  {
   "cell_type": "code",
   "execution_count": null,
   "id": "0fff1baf-ef0c-4690-9e9d-f3b17b4254ea",
   "metadata": {},
   "outputs": [],
   "source": [
    "# a list of clients that will be filled in the upcoming loop\n",
    "clients = []"
   ]
  }
 ],
 "metadata": {
  "kernelspec": {
   "display_name": "Python 3 (ipykernel)",
   "language": "python",
   "name": "python3"
  },
  "language_info": {
   "codemirror_mode": {
    "name": "ipython",
    "version": 3
   },
   "file_extension": ".py",
   "mimetype": "text/x-python",
   "name": "python",
   "nbconvert_exporter": "python",
   "pygments_lexer": "ipython3",
   "version": "3.12.3"
  }
 },
 "nbformat": 4,
 "nbformat_minor": 5
}
