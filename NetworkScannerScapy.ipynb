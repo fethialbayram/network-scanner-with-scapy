{
 "cells": [
  {
   "cell_type": "code",
   "execution_count": null,
   "id": "fa70af85-f638-4ea5-bc06-208be08c19dd",
   "metadata": {},
   "outputs": [],
   "source": []
  }
 ],
 "metadata": {
  "kernelspec": {
   "display_name": "",
   "name": ""
  },
  "language_info": {
   "name": ""
  }
 },
 "nbformat": 4,
 "nbformat_minor": 5
}
