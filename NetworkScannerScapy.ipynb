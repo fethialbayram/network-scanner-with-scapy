{
 "cells": [
  {
   "cell_type": "code",
   "execution_count": null,
   "id": "fa70af85-f638-4ea5-bc06-208be08c19dd",
   "metadata": {},
   "outputs": [],
   "source": [
    "# importing libraries\n",
    "\n",
    "from scapy.all import ARP, Ether, srp"
   ]
  },
  {
   "cell_type": "code",
   "execution_count": null,
   "id": "11a5432e-990f-4b5c-bb29-53268ed3467f",
   "metadata": {},
   "outputs": [],
   "source": [
    "# destination ip address\n",
    "target_ip = \"192.168.1.1/24\"\n",
    "\n",
    "# create ARP packet\n",
    "arp = ARP(pdst=target_ip)\n",
    "\n",
    "# creating Ethernet broadcast packet\n",
    "# ff:ff:ff:ff:ff:ff MAC indicates broadcasting in network\n",
    "ether = Ether(dst=\"ff:ff:ff:ff:ff:ff\")\n",
    "\n",
    "# stack them\n",
    "packet = ether/arp\n"
   ]
  },
  {
   "cell_type": "code",
   "execution_count": null,
   "id": "02bf3fc2-b644-4a02-9a57-d26ea27af05a",
   "metadata": {},
   "outputs": [],
   "source": [
    "# we set timeout so script won't get stuck\n",
    "result = srp(packet, timeout=3)[0]"
   ]
  },
  {
   "cell_type": "code",
   "execution_count": null,
   "id": "0fff1baf-ef0c-4690-9e9d-f3b17b4254ea",
   "metadata": {},
   "outputs": [],
   "source": [
    "# a list of clients that will be filled in the upcoming loop\n",
    "clients = []\n",
    "\n",
    "for sent, received in result:\n",
    "    # for each response, append ip and mac address to 'clients' list\n",
    "    clients.append({'ip':received.psrc,'mac':received.hwsrc})"
   ]
  },
  {
   "cell_type": "code",
   "execution_count": null,
   "id": "fe8f6338-ba4f-4d35-9eea-ef5f6360cf46",
   "metadata": {},
   "outputs": [],
   "source": [
    "# print clients list\n",
    "print(\"Available devices in the network: \")\n",
    "print(\"IP\" + \" \"*18 + \"MAC\")\n",
    "\n",
    "for client in clients:\n",
    "    print(\"{:16}    {}\".format(client['ip'], client['mac']))"
   ]
  }
 ],
 "metadata": {
  "kernelspec": {
   "display_name": "Python 3 (ipykernel)",
   "language": "python",
   "name": "python3"
  },
  "language_info": {
   "codemirror_mode": {
    "name": "ipython",
    "version": 3
   },
   "file_extension": ".py",
   "mimetype": "text/x-python",
   "name": "python",
   "nbconvert_exporter": "python",
   "pygments_lexer": "ipython3",
   "version": "3.12.3"
  }
 },
 "nbformat": 4,
 "nbformat_minor": 5
}
