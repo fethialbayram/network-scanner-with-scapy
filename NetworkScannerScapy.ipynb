{
 "cells": [
  {
   "cell_type": "code",
   "execution_count": 3,
   "id": "fa70af85-f638-4ea5-bc06-208be08c19dd",
   "metadata": {},
   "outputs": [],
   "source": [
    "# importing libraries\n",
    "\n",
    "from scapy.all import ARP, Ether, srp"
   ]
  },
  {
   "cell_type": "code",
   "execution_count": null,
   "id": "11a5432e-990f-4b5c-bb29-53268ed3467f",
   "metadata": {},
   "outputs": [],
   "source": [
    "target_ip = \"192.168.1.1/24\"\n"
   ]
  }
 ],
 "metadata": {
  "kernelspec": {
   "display_name": "Python 3 (ipykernel)",
   "language": "python",
   "name": "python3"
  },
  "language_info": {
   "codemirror_mode": {
    "name": "ipython",
    "version": 3
   },
   "file_extension": ".py",
   "mimetype": "text/x-python",
   "name": "python",
   "nbconvert_exporter": "python",
   "pygments_lexer": "ipython3",
   "version": "3.12.3"
  }
 },
 "nbformat": 4,
 "nbformat_minor": 5
}
